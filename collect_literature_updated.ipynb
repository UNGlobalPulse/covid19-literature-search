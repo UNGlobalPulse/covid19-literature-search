{
 "cells": [
  {
   "cell_type": "code",
   "execution_count": 1,
   "metadata": {},
   "outputs": [],
   "source": [
    "import io\n",
    "import os\n",
    "import xml.etree.ElementTree as et \n",
    "import xmltodict\n",
    "import urllib\n",
    "import pandas as pd\n",
    "import numpy as np\n",
    "import matplotlib.pyplot as plt\n",
    "import matplotlib\n",
    "\n",
    "os.environ[\"PATH\"] += os.pathsep + 'C:\\\\Program Files\\\\MiKTeX 2.9\\\\miktex\\\\bin\\\\x64\\\\'\n",
    "os.environ[\"PATH\"] += os.pathsep + 'C:\\\\Program Files\\\\gs\\\\gs9.52\\\\bin\\\\'\n",
    "matplotlib.rcParams['text.usetex'] = True"
   ]
  },
  {
   "cell_type": "markdown",
   "metadata": {},
   "source": [
    "# Get data"
   ]
  },
  {
   "cell_type": "markdown",
   "metadata": {},
   "source": [
    "COVID-19 Open Research Dataset (CORD-19). 2020. Version 2020-08-04. Retrieved from https://ai2-semanticscholar-cord-19.s3-us-west-2.amazonaws.com/historical_releases.html. Accessed 2020-08-04. doi:10.5281/zenodo.3715505\n",
    "\n",
    "The query used by the authors is as follows:\n",
    "\n",
    "    \"COVID-19\"[All Fields] OR (\"coronavirus\"[MeSH Terms] OR \"coronavirus\"[All Fields]) OR \"Corona virus\"[All Fields] OR \"2019-nCoV\"[All Fields] OR \"SARS-CoV\"[All Fields] OR \"MERS-CoV\"[All Fields] OR \"Severe Acute Respiratory Syndrome\"[All Fields] OR \"Middle East Respiratory Syndrome\"[All Fields]"
   ]
  },
  {
   "cell_type": "code",
   "execution_count": 2,
   "metadata": {},
   "outputs": [
    {
     "data": {
      "text/plain": [
       "(207595, 19)"
      ]
     },
     "execution_count": 2,
     "metadata": {},
     "output_type": "execute_result"
    }
   ],
   "source": [
    "cord19 = pd.read_csv(\"https://ai2-semanticscholar-cord-19.s3-us-west-2.amazonaws.com/latest/metadata.csv\", low_memory=False) # last retrieved: 2020-05-01\n",
    "cord19.shape"
   ]
  },
  {
   "cell_type": "code",
   "execution_count": 3,
   "metadata": {},
   "outputs": [
    {
     "data": {
      "text/plain": [
       "(125428, 22)"
      ]
     },
     "execution_count": 3,
     "metadata": {},
     "output_type": "execute_result"
    }
   ],
   "source": [
    "cord19.rename(columns = {'cord_uid'      :'id', \n",
    "                          'publish_time' :'published', \n",
    "                          'abstract'     :'summary', \n",
    "                          'authors'      :'author',  \n",
    "                          'source_x'     :'source'}, inplace=True)\n",
    "\n",
    "# Extract mentions of individual ArXiv sources\n",
    "cord19['source'] = cord19['source'].str.lower()\n",
    "cord19['medrxiv'] = cord19['source'].str.contains('medrxiv')\n",
    "cord19['arxiv'  ] = cord19['source'].str.contains('arxiv')\n",
    "cord19['biorxiv'] = cord19['source'].str.contains('biorxiv')\n",
    "\n",
    "# Keep only articles with title and summary, and only articles published in 2019 or 2020\n",
    "cord19.dropna(subset=['title', 'summary'], how='all', inplace=True) \n",
    "cord19['published'] = pd.to_datetime(cord19['published'])\n",
    "cord19 = cord19[cord19.published.dt.year.isin([2019,2020])].copy()\n",
    "\n",
    "cord19.shape"
   ]
  },
  {
   "cell_type": "markdown",
   "metadata": {},
   "source": [
    "## Extract AI papers"
   ]
  },
  {
   "cell_type": "code",
   "execution_count": 4,
   "metadata": {},
   "outputs": [
    {
     "name": "stderr",
     "output_type": "stream",
     "text": [
      "C:\\Users\\Katherine\\.conda\\envs\\py36\\lib\\site-packages\\pandas\\core\\strings.py:1952: UserWarning: This pattern has match groups. To actually get the groups, use str.extract.\n",
      "  return func(self, *args, **kwargs)\n"
     ]
    }
   ],
   "source": [
    "cord19['paper_type'] = 'Not AI'\n",
    "cord19['paper_type'] = np.where(cord19['title'  ].astype(str).str.lower().str.contains(\"(machine learning|artificial intelligence|deep learning|neural network)\"), \n",
    "                                'AI', \n",
    "                                cord19['paper_type'])\n",
    "cord19['paper_type'] = np.where(cord19['summary'].astype(str).str.lower().str.contains(\"(machine learning|artificial intelligence|deep learning|neural network)\"), \n",
    "                                'AI', \n",
    "                                cord19['paper_type'])"
   ]
  },
  {
   "cell_type": "markdown",
   "metadata": {},
   "source": [
    "## Remove duplicates"
   ]
  },
  {
   "cell_type": "code",
   "execution_count": 5,
   "metadata": {},
   "outputs": [
    {
     "name": "stdout",
     "output_type": "stream",
     "text": [
      "Variable:       sha \n",
      "Max count: 3\n",
      "True duplicates 7\n",
      "N dropped       7 \n",
      "\n",
      "Variable:       doi \n",
      "Max count: 2\n",
      "True duplicates 2\n",
      "N dropped       2 \n",
      "\n",
      "Variable:       pubmed_id \n",
      "Max count: 3\n",
      "True duplicates 48\n",
      "N dropped       48 \n",
      "\n",
      "Variable:       url \n",
      "Max count: 1\n",
      "True duplicates 0\n",
      "N dropped       0 \n",
      "\n",
      "Variable:       s2_id \n",
      "Max count: 20\n",
      "True duplicates 80057\n",
      "N dropped       80057 \n",
      "\n",
      "Variable:       arxiv_id \n",
      "Max count: 1\n",
      "True duplicates 0\n",
      "N dropped       0 \n",
      "\n",
      "Variable:       pmcid \n",
      "Max count: 1\n",
      "True duplicates 0\n",
      "N dropped       0 \n",
      "\n",
      "Variable:       who_covidence_id \n",
      "Max count: 1\n",
      "True duplicates 0\n",
      "N dropped       0 \n",
      "\n"
     ]
    }
   ],
   "source": [
    "# Naively, on ID\n",
    "cord19.drop_duplicates(subset=['id'], inplace=True)\n",
    "\n",
    "# On IDs pulled from other sources\n",
    "unique_identifiers = ['sha', 'doi',  'pubmed_id',  'url', 's2_id', 'arxiv_id', 'pmcid', 'who_covidence_id']\n",
    "\n",
    "for u in unique_identifiers:\n",
    "    \n",
    "    # Get the maximum value count of a single ID\n",
    "    print(\"Variable:      \", u, \"\\nMax count:\", cord19[u].value_counts().max())\n",
    "    \n",
    "    # Figure out how many true duplicates there are (ignoring NAN counted as duplicate)\n",
    "    missing    = cord19[u].isna().value_counts().loc[True]\n",
    "    duplicated = cord19[u].duplicated(keep=False).value_counts().loc[True]\n",
    "\n",
    "    print(\"True duplicates\", duplicated - missing)\n",
    "    \n",
    "    # Count how many records drop\n",
    "    shape_before = cord19.shape[0]    \n",
    "    cord19 = cord19[~(~cord19[u].isna() & cord19[u].duplicated(keep=False))].copy()\n",
    "    shape_after = cord19.shape[0]\n",
    "    \n",
    "    print(\"N dropped      \", shape_before - shape_after, \"\\n\")\n",
    "    "
   ]
  },
  {
   "cell_type": "markdown",
   "metadata": {},
   "source": [
    "## Save all papers"
   ]
  },
  {
   "cell_type": "code",
   "execution_count": 6,
   "metadata": {},
   "outputs": [
    {
     "data": {
      "text/plain": [
       "(1375, 23)"
      ]
     },
     "execution_count": 6,
     "metadata": {},
     "output_type": "execute_result"
    }
   ],
   "source": [
    "cord19[cord19.paper_type==\"AI\"].to_csv(\"list_of_papers_updated.csv\", encoding='utf-8-sig')\n",
    "cord19[cord19.paper_type==\"AI\"].shape"
   ]
  },
  {
   "cell_type": "markdown",
   "metadata": {},
   "source": [
    "# Analyze"
   ]
  },
  {
   "cell_type": "markdown",
   "metadata": {},
   "source": [
    "## Total counts"
   ]
  },
  {
   "cell_type": "code",
   "execution_count": 7,
   "metadata": {},
   "outputs": [
    {
     "data": {
      "text/plain": [
       "1305"
      ]
     },
     "execution_count": 7,
     "metadata": {},
     "output_type": "execute_result"
    }
   ],
   "source": [
    "# How many AI papers in our time window?\n",
    "cord19[cord19.paper_type==\"AI\"].set_index(\"published\").loc['2020-01-01':'2020-08-01'].count()['title']"
   ]
  },
  {
   "cell_type": "code",
   "execution_count": 8,
   "metadata": {},
   "outputs": [
    {
     "data": {
      "text/plain": [
       "36292"
      ]
     },
     "execution_count": 8,
     "metadata": {},
     "output_type": "execute_result"
    }
   ],
   "source": [
    "# How many total COVID papers in our time window?\n",
    "cord19.set_index(\"published\").loc['2020-01-01':'2020-08-01'].count()['title']"
   ]
  },
  {
   "cell_type": "code",
   "execution_count": 9,
   "metadata": {},
   "outputs": [
    {
     "data": {
      "text/plain": [
       "pmc                                   10981\n",
       "medline                                5493\n",
       "medrxiv                                5128\n",
       "medline; pmc                           4375\n",
       "who                                    3933\n",
       "arxiv                                  2252\n",
       "elsevier; pmc; who                     2181\n",
       "elsevier; medline; pmc                 1916\n",
       "pmc; who                               1560\n",
       "biorxiv                                1425\n",
       "medline; pmc; who                      1388\n",
       "elsevier; pmc                          1187\n",
       "elsevier; medline; pmc; who             558\n",
       "medline; who                            507\n",
       "biorxiv; medrxiv                        197\n",
       "medrxiv; medline; pmc                   192\n",
       "elsevier                                144\n",
       "medrxiv; medline                        115\n",
       "biorxiv; medline; pmc                    77\n",
       "biorxiv; medline                         58\n",
       "biorxiv; medline; pmc; who               48\n",
       "biorxiv; medline; who                    23\n",
       "medrxiv; medline; pmc; who               20\n",
       "arxiv; elsevier; pmc; who                14\n",
       "medrxiv; pmc                             13\n",
       "biorxiv; pmc                             10\n",
       "medrxiv; medline; who                    10\n",
       "arxiv; medline; pmc                       8\n",
       "biorxiv; medrxiv; medline                 8\n",
       "biorxiv; medrxiv; medline; pmc            7\n",
       "arxiv; who                                6\n",
       "arxiv; medline                            6\n",
       "arxiv; elsevier; pmc                      5\n",
       "arxiv; elsevier; medline; pmc             5\n",
       "arxiv; elsevier; medline; pmc; who        5\n",
       "biorxiv; who                              5\n",
       "elsevier; who                             4\n",
       "medrxiv; who                              3\n",
       "arxiv; medline; pmc; who                  3\n",
       "arxiv; elsevier                           2\n",
       "arxiv; medrxiv                            1\n",
       "arxiv; pmc; who                           1\n",
       "arxiv; pmc                                1\n",
       "Name: source, dtype: int64"
      ]
     },
     "execution_count": 9,
     "metadata": {},
     "output_type": "execute_result"
    }
   ],
   "source": [
    "# TODO: need to handle multiple reporting in the plot below\n",
    "cord19.source.value_counts()"
   ]
  },
  {
   "cell_type": "markdown",
   "metadata": {},
   "source": [
    "## Plot"
   ]
  },
  {
   "cell_type": "code",
   "execution_count": 10,
   "metadata": {},
   "outputs": [
    {
     "data": {
      "image/png": "[encoded data removed]",
      "text/plain": [
       "<Figure size 1080x360 with 2 Axes>"
      ]
     },
     "metadata": {
      "needs_background": "light"
     },
     "output_type": "display_data"
    }
   ],
   "source": [
    "fig, ax = plt.subplots(1,2, figsize=[15,5])\n",
    "\n",
    "# Note: we start from 2 January because it looks like articles with missing date get assigned to Jan 1\n",
    "plot_df = cord19.set_index('published').loc['2020-01-02':'2020-08-04'].reset_index()\n",
    "\n",
    "###############################\n",
    "# Plot all papers (left panel)\n",
    "###############################\n",
    "\n",
    "plot_df1 = plot_df.groupby([plot_df.published.dt.to_period('W'), \n",
    "                            plot_df.paper_type]).count()['id'].unstack(level=['paper_type']).fillna(0)\n",
    "\n",
    "plot_df1['All papers'] = plot_df1['AI'] + plot_df1['Not AI']\n",
    "\n",
    "\n",
    "plot_df1[['AI', 'All papers']].loc['2020-01-02':'2020-04-10'].plot(ax=ax[0],  legend=True,  alpha=0.75, color=['blue', 'darkorange'], marker=\".\")\n",
    "plot_df1[['AI', 'All papers']].loc['2020-04-10':].plot(ax=ax[0],  legend=True,  alpha=1, color=['blue', 'darkorange'], linestyle=\":\")\n",
    "\n",
    "\n",
    "ax[0].set_xlabel(\"\")\n",
    "ax[0].set_ylabel(\"$\\#$ papers per week\")\n",
    "ax[0].set_title(\"All coronavirus papers\") #CORD-19 papers + ArXiv papers mentioning covid/coronavirus/sars-cov-2\")\n",
    "ax[0].legend([\"AI/ML-related papers\", \"All papers\"])\n",
    "\n",
    "##################################\n",
    "# Plot ML/AI papers (right panel)\n",
    "##################################\n",
    "\n",
    "plot_df2 = plot_df.groupby([plot_df.published.dt.to_period('W'),\n",
    "                            plot_df.paper_type]).sum()[['arxiv', 'medrxiv', 'biorxiv']].unstack(level=['paper_type']).fillna(0)\n",
    "\n",
    "plot_df2 = plot_df2.xs(\"AI\", level=\"paper_type\", axis=1).fillna(0)\n",
    "plot_df2[['arxiv', 'medrxiv', 'biorxiv']].loc['2020-01-02':'2020-04-10'].plot(alpha=0.75, ax=ax[1], cmap='gist_rainbow', marker=\".\", legend=True)\n",
    "plot_df2[['arxiv', 'medrxiv', 'biorxiv']].loc['2020-04-10':].plot(alpha=1, ax=ax[1], cmap='gist_rainbow', linestyle=\":\",  legend=False)\n",
    "\n",
    "ax[1].set_xlabel(\"\")\n",
    "ax[1].set_ylabel(\"$\\#$ papers per week\")\n",
    "ax[1].set_title(\"AI/ML-related papers posted on ArXiv, MedRxiv, and BioRxiv\") \n",
    "\n",
    "\n",
    "##################################\n",
    "# Polish and save plot\n",
    "##################################\n",
    "\n",
    "ax[0].set_xlim('2020-01-02', '2020-08-01')\n",
    "ax[1].set_xlim('2020-01-02', '2020-08-01')\n",
    "ax[1].set_ylim(-1, 35)\n",
    "\n",
    "plt.savefig(\"automated_lit_review.pdf\", dpi=100, bbox_inches=\"tight\")\n",
    "plt.savefig(\"automated_lit_review.png\", dpi=100, bbox_inches=\"tight\")"
   ]
  },
  {
   "cell_type": "code",
   "execution_count": 11,
   "metadata": {},
   "outputs": [
    {
     "data": {
      "text/plain": [
       "published\n",
       "2019-12-30/2020-01-05       79.0\n",
       "2020-01-06/2020-01-12      265.0\n",
       "2020-01-13/2020-01-19      404.0\n",
       "2020-01-20/2020-01-26      559.0\n",
       "2020-01-27/2020-02-02      801.0\n",
       "2020-02-03/2020-02-09     1005.0\n",
       "2020-02-10/2020-02-16     1247.0\n",
       "2020-02-17/2020-02-23     1569.0\n",
       "2020-02-24/2020-03-01     1907.0\n",
       "2020-03-02/2020-03-08     2273.0\n",
       "2020-03-09/2020-03-15     2677.0\n",
       "2020-03-16/2020-03-22     3202.0\n",
       "2020-03-23/2020-03-29     3877.0\n",
       "2020-03-30/2020-04-05     4824.0\n",
       "2020-04-06/2020-04-12     5808.0\n",
       "2020-04-13/2020-04-19     6929.0\n",
       "2020-04-20/2020-04-26     8105.0\n",
       "2020-04-27/2020-05-03     9488.0\n",
       "2020-05-04/2020-05-10    10993.0\n",
       "2020-05-11/2020-05-17    12588.0\n",
       "2020-05-18/2020-05-24    14371.0\n",
       "2020-05-25/2020-05-31    16261.0\n",
       "2020-06-01/2020-06-07    18087.0\n",
       "2020-06-08/2020-06-14    19949.0\n",
       "2020-06-15/2020-06-21    21650.0\n",
       "2020-06-22/2020-06-28    23430.0\n",
       "2020-06-29/2020-07-05    25226.0\n",
       "2020-07-06/2020-07-12    26791.0\n",
       "2020-07-13/2020-07-19    28415.0\n",
       "2020-07-20/2020-07-26    29982.0\n",
       "2020-07-27/2020-08-02    31764.0\n",
       "2020-08-03/2020-08-09    31857.0\n",
       "Freq: W-SUN, Name: All papers, dtype: float64"
      ]
     },
     "execution_count": 11,
     "metadata": {},
     "output_type": "execute_result"
    }
   ],
   "source": [
    "plot_df1['All papers'].cumsum()"
   ]
  },
  {
   "cell_type": "code",
   "execution_count": 12,
   "metadata": {},
   "outputs": [
    {
     "data": {
      "text/plain": [
       "published\n",
       "2019-12-30/2020-01-05       0.0\n",
       "2020-01-06/2020-01-12       2.0\n",
       "2020-01-13/2020-01-19       2.0\n",
       "2020-01-20/2020-01-26       3.0\n",
       "2020-01-27/2020-02-02      10.0\n",
       "2020-02-03/2020-02-09      14.0\n",
       "2020-02-10/2020-02-16      20.0\n",
       "2020-02-17/2020-02-23      25.0\n",
       "2020-02-24/2020-03-01      30.0\n",
       "2020-03-02/2020-03-08      36.0\n",
       "2020-03-09/2020-03-15      44.0\n",
       "2020-03-16/2020-03-22      74.0\n",
       "2020-03-23/2020-03-29     109.0\n",
       "2020-03-30/2020-04-05     141.0\n",
       "2020-04-06/2020-04-12     172.0\n",
       "2020-04-13/2020-04-19     244.0\n",
       "2020-04-20/2020-04-26     283.0\n",
       "2020-04-27/2020-05-03     349.0\n",
       "2020-05-04/2020-05-10     448.0\n",
       "2020-05-11/2020-05-17     498.0\n",
       "2020-05-18/2020-05-24     591.0\n",
       "2020-05-25/2020-05-31     694.0\n",
       "2020-06-01/2020-06-07     763.0\n",
       "2020-06-08/2020-06-14     879.0\n",
       "2020-06-15/2020-06-21     953.0\n",
       "2020-06-22/2020-06-28    1022.0\n",
       "2020-06-29/2020-07-05    1073.0\n",
       "2020-07-06/2020-07-12    1118.0\n",
       "2020-07-13/2020-07-19    1166.0\n",
       "2020-07-20/2020-07-26    1208.0\n",
       "2020-07-27/2020-08-02    1261.0\n",
       "2020-08-03/2020-08-09    1262.0\n",
       "Freq: W-SUN, Name: AI, dtype: float64"
      ]
     },
     "execution_count": 12,
     "metadata": {},
     "output_type": "execute_result"
    }
   ],
   "source": [
    "plot_df1['AI'].cumsum()"
   ]
  }
 ],
 "metadata": {
  "kernelspec": {
   "display_name": "Python 3.6",
   "language": "python",
   "name": "py36"
  },
  "language_info": {
   "codemirror_mode": {
    "name": "ipython",
    "version": 3
   },
   "file_extension": ".py",
   "mimetype": "text/x-python",
   "name": "python",
   "nbconvert_exporter": "python",
   "pygments_lexer": "ipython3",
   "version": "3.6.8"
  },
  "toc-autonumbering": true
 },
 "nbformat": 4,
 "nbformat_minor": 4
}
