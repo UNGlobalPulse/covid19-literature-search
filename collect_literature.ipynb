{
 "cells": [
  {
   "cell_type": "code",
   "execution_count": 1,
   "metadata": {},
   "outputs": [],
   "source": [
    "import io\n",
    "import os\n",
    "import xml.etree.ElementTree as et \n",
    "import xmltodict\n",
    "import urllib\n",
    "import pandas as pd\n",
    "import numpy as np\n",
    "import matplotlib.pyplot as plt\n",
    "import matplotlib\n",
    "\n",
    "os.environ[\"PATH\"] += os.pathsep + 'C:\\\\Program Files\\\\MiKTeX 2.9\\\\miktex\\\\bin\\\\x64\\\\'\n",
    "os.environ[\"PATH\"] += os.pathsep + 'C:\\\\Program Files\\\\gs\\\\gs9.52\\\\bin\\\\'\n",
    "matplotlib.rcParams['text.usetex'] = True"
   ]
  },
  {
   "cell_type": "markdown",
   "metadata": {},
   "source": [
    "# Get data"
   ]
  },
  {
   "cell_type": "markdown",
   "metadata": {},
   "source": [
    "COVID-19 Open Research Dataset (CORD-19). 2020. Version 2020-05-01. Retrieved from https://pages.semanticscholar.org/coronavirus-research. Accessed 2020-05-01. doi:10.5281/zenodo.3715505\n",
    "\n",
    "The query used by the authors is as follows:\n",
    "\n",
    "    \"COVID-19\"[All Fields] OR (\"coronavirus\"[MeSH Terms] OR \"coronavirus\"[All Fields]) OR \"Corona virus\"[All Fields] OR \"2019-nCoV\"[All Fields] OR \"SARS-CoV\"[All Fields] OR \"MERS-CoV\"[All Fields] OR \"Severe Acute Respiratory Syndrome\"[All Fields] OR \"Middle East Respiratory Syndrome\"[All Fields]"
   ]
  },
  {
   "cell_type": "code",
   "execution_count": 2,
   "metadata": {},
   "outputs": [
    {
     "data": {
      "text/plain": [
       "(59887, 19)"
      ]
     },
     "execution_count": 2,
     "metadata": {},
     "output_type": "execute_result"
    }
   ],
   "source": [
    "cord19 = pd.read_csv(\"https://ai2-semanticscholar-cord-19.s3-us-west-2.amazonaws.com/latest/metadata.csv\", low_memory=False) # last retrieved: 2020-05-01\n",
    "cord19.shape"
   ]
  },
  {
   "cell_type": "code",
   "execution_count": 3,
   "metadata": {},
   "outputs": [],
   "source": [
    "cord19.rename(columns = {'cord_uid'      :'id', \n",
    "                          'publish_time' :'published', \n",
    "                          'abstract'     :'summary', \n",
    "                          'authors'      :'author',  \n",
    "                          'source_x'     :'source'}, inplace=True)\n",
    "\n",
    "\n",
    "# Keep only articles with title and summary, published in 2019 or 2020\n",
    "cord19['published'] = pd.to_datetime(cord19['published'])\n",
    "cord19.dropna(subset=['title', 'summary'], how='all', inplace=True)\n",
    "cord19 = cord19[cord19.published.dt.year.isin([2019,2020])].copy()"
   ]
  },
  {
   "cell_type": "markdown",
   "metadata": {},
   "source": [
    "## Extract AI papers"
   ]
  },
  {
   "cell_type": "code",
   "execution_count": 4,
   "metadata": {},
   "outputs": [
    {
     "name": "stderr",
     "output_type": "stream",
     "text": [
      "C:\\Users\\Katherine\\.conda\\envs\\py36\\lib\\site-packages\\pandas\\core\\strings.py:1952: UserWarning: This pattern has match groups. To actually get the groups, use str.extract.\n",
      "  return func(self, *args, **kwargs)\n"
     ]
    }
   ],
   "source": [
    "cord19['paper_type'] = 'Not AI'\n",
    "cord19['paper_type'] = np.where(cord19['title'  ].astype(str).str.lower().str.contains(\"(machine learning|artificial intelligence|deep learning|neural network)\"), \n",
    "                                'AI', \n",
    "                                cord19['paper_type'])\n",
    "cord19['paper_type'] = np.where(cord19['summary'].astype(str).str.lower().str.contains(\"(machine learning|artificial intelligence|deep learning|neural network)\"), \n",
    "                                'AI', \n",
    "                                cord19['paper_type'])"
   ]
  },
  {
   "cell_type": "code",
   "execution_count": 5,
   "metadata": {},
   "outputs": [
    {
     "data": {
      "text/plain": [
       "(274, 20)"
      ]
     },
     "execution_count": 5,
     "metadata": {},
     "output_type": "execute_result"
    }
   ],
   "source": [
    "# Save all papers\n",
    "cord19[cord19.paper_type==\"AI\"].to_csv(\"list_of_papers.csv\", encoding='utf-8-sig')\n",
    "cord19[cord19.paper_type==\"AI\"].shape"
   ]
  },
  {
   "cell_type": "markdown",
   "metadata": {},
   "source": [
    "# Analyze"
   ]
  },
  {
   "cell_type": "markdown",
   "metadata": {},
   "source": [
    "## Total counts"
   ]
  },
  {
   "cell_type": "code",
   "execution_count": 6,
   "metadata": {},
   "outputs": [
    {
     "data": {
      "text/plain": [
       "216"
      ]
     },
     "execution_count": 6,
     "metadata": {},
     "output_type": "execute_result"
    }
   ],
   "source": [
    "# How many AI papers in our time window?\n",
    "cord19[cord19.paper_type==\"AI\"].set_index(\"published\").loc['2020-01-01':'2020-04-24'].count()['title']"
   ]
  },
  {
   "cell_type": "code",
   "execution_count": 7,
   "metadata": {},
   "outputs": [
    {
     "data": {
      "text/plain": [
       "8787"
      ]
     },
     "execution_count": 7,
     "metadata": {},
     "output_type": "execute_result"
    }
   ],
   "source": [
    "# How many total COVID papers in our time window?\n",
    "cord19.set_index(\"published\").loc['2020-01-01':'2020-04-24'].count()['title']"
   ]
  },
  {
   "cell_type": "code",
   "execution_count": 8,
   "metadata": {},
   "outputs": [
    {
     "data": {
      "text/plain": [
       "Elsevier    4943\n",
       "PMC         4654\n",
       "medrxiv     2007\n",
       "WHO          907\n",
       "biorxiv      835\n",
       "arxiv        706\n",
       "CZI          100\n",
       "Name: source, dtype: int64"
      ]
     },
     "execution_count": 8,
     "metadata": {},
     "output_type": "execute_result"
    }
   ],
   "source": [
    "cord19.source.value_counts()"
   ]
  },
  {
   "cell_type": "markdown",
   "metadata": {},
   "source": [
    "## Plot"
   ]
  },
  {
   "cell_type": "code",
   "execution_count": 9,
   "metadata": {},
   "outputs": [
    {
     "data": {
      "image/png": "[encoded data removed]",
      "text/plain": [
       "<Figure size 1080x360 with 2 Axes>"
      ]
     },
     "metadata": {
      "needs_background": "light"
     },
     "output_type": "display_data"
    }
   ],
   "source": [
    "fig, ax = plt.subplots(1,2, figsize=[15,5])\n",
    "\n",
    "# Note: we start from 2 January because it looks like articles with missing date get assigned to Jan 1\n",
    "plot_df = cord19.set_index('published').loc['2020-01-02':'2020-04-24'].reset_index()\n",
    "\n",
    "###############################\n",
    "# Plot all papers (left panel)\n",
    "###############################\n",
    "\n",
    "plot_df1 = plot_df.groupby([plot_df.published.dt.to_period('W'), \n",
    "                            plot_df.paper_type]).count()['id'].unstack(level=['paper_type']).fillna(0)\n",
    "\n",
    "plot_df1['All papers'] = plot_df1['AI'] + plot_df1['Not AI']\n",
    "\n",
    "\n",
    "plot_df1[['AI', 'All papers']].plot(ax=ax[0],  legend=True,  alpha=0.75, color=['blue', 'darkorange'], marker=\".\")\n",
    "ax[0].set_xlabel(\"\")\n",
    "ax[0].set_ylabel(\"$\\#$ papers per week\")\n",
    "ax[0].set_title(\"All coronavirus papers\") #CORD-19 papers + ArXiv papers mentioning covid/coronavirus/sars-cov-2\")\n",
    "ax[0].legend([\"AI/ML-related papers\", \"All papers\"])\n",
    "\n",
    "##################################\n",
    "# Plot ML/AI papers (right panel)\n",
    "##################################\n",
    "\n",
    "plot_df = plot_df[plot_df.source.isin(['arxiv', 'medrxiv', 'biorxiv'])]\n",
    "\n",
    "plot_df2 = plot_df.groupby([plot_df.published.dt.to_period('W'), \n",
    "                            plot_df.source, \n",
    "                            plot_df.paper_type]).count()['id'].unstack(level=['paper_type']).fillna(0)\n",
    "\n",
    "plot_df2['All papers'] = plot_df2['AI'] + plot_df2['Not AI']\n",
    "plot_df2 = plot_df2.unstack(level='source').fillna(0)\n",
    "\n",
    "plot_df2['AI'][['biorxiv', 'medrxiv', 'arxiv']].plot(alpha=0.75, ax=ax[1], cmap='gist_rainbow', marker=\".\")\n",
    "\n",
    "ax[1].set_xlabel(\"\")\n",
    "ax[1].set_ylabel(\"$\\#$ papers per week\")\n",
    "ax[1].set_title(\"AI/ML-related papers posted on ArXiv, MedRxiv, and BioRxiv\") \n",
    "ax[1].legend([\"BioRxiv\", 'MedRxiv', 'ArXiv'])\n",
    "\n",
    "\n",
    "##################################\n",
    "# Polish and save plot\n",
    "##################################\n",
    "\n",
    "ax[0].set_xlim('2020-01-02', '2020-04-24')\n",
    "ax[1].set_xlim('2020-01-02', '2020-04-24')\n",
    "ax[1].set_ylim(-1, 24)\n",
    "ax[1].legend(loc='upper left')\n",
    "\n",
    "plt.savefig(\"automated_lit_review.pdf\", dpi=100, bbox_inches=\"tight\")\n",
    "plt.savefig(\"automated_lit_review.png\", dpi=100, bbox_inches=\"tight\")"
   ]
  },
  {
   "cell_type": "code",
   "execution_count": 10,
   "metadata": {},
   "outputs": [
    {
     "data": {
      "text/plain": [
       "published\n",
       "2019-12-30/2020-01-05      18.0\n",
       "2020-01-06/2020-01-12      61.0\n",
       "2020-01-13/2020-01-19     101.0\n",
       "2020-01-20/2020-01-26     157.0\n",
       "2020-01-27/2020-02-02     347.0\n",
       "2020-02-03/2020-02-09     491.0\n",
       "2020-02-10/2020-02-16     695.0\n",
       "2020-02-17/2020-02-23     985.0\n",
       "2020-02-24/2020-03-01    1387.0\n",
       "2020-03-02/2020-03-08    1778.0\n",
       "2020-03-09/2020-03-15    2224.0\n",
       "2020-03-16/2020-03-22    2772.0\n",
       "2020-03-23/2020-03-29    3394.0\n",
       "2020-03-30/2020-04-05    4545.0\n",
       "2020-04-06/2020-04-12    5793.0\n",
       "2020-04-13/2020-04-19    7027.0\n",
       "2020-04-20/2020-04-26    8160.0\n",
       "Freq: W-SUN, Name: All papers, dtype: float64"
      ]
     },
     "execution_count": 10,
     "metadata": {},
     "output_type": "execute_result"
    }
   ],
   "source": [
    "plot_df1['All papers'].cumsum()"
   ]
  },
  {
   "cell_type": "code",
   "execution_count": 11,
   "metadata": {},
   "outputs": [
    {
     "data": {
      "text/plain": [
       "published\n",
       "2019-12-30/2020-01-05      0.0\n",
       "2020-01-06/2020-01-12      1.0\n",
       "2020-01-13/2020-01-19      1.0\n",
       "2020-01-20/2020-01-26      2.0\n",
       "2020-01-27/2020-02-02      4.0\n",
       "2020-02-03/2020-02-09      6.0\n",
       "2020-02-10/2020-02-16     12.0\n",
       "2020-02-17/2020-02-23     17.0\n",
       "2020-02-24/2020-03-01     24.0\n",
       "2020-03-02/2020-03-08     29.0\n",
       "2020-03-09/2020-03-15     35.0\n",
       "2020-03-16/2020-03-22     57.0\n",
       "2020-03-23/2020-03-29     84.0\n",
       "2020-03-30/2020-04-05    120.0\n",
       "2020-04-06/2020-04-12    149.0\n",
       "2020-04-13/2020-04-19    175.0\n",
       "2020-04-20/2020-04-26    212.0\n",
       "Freq: W-SUN, Name: AI, dtype: float64"
      ]
     },
     "execution_count": 11,
     "metadata": {},
     "output_type": "execute_result"
    }
   ],
   "source": [
    "plot_df1['AI'].cumsum()"
   ]
  }
 ],
 "metadata": {
  "kernelspec": {
   "display_name": "Python 3.6",
   "language": "python",
   "name": "py36"
  },
  "language_info": {
   "codemirror_mode": {
    "name": "ipython",
    "version": 3
   },
   "file_extension": ".py",
   "mimetype": "text/x-python",
   "name": "python",
   "nbconvert_exporter": "python",
   "pygments_lexer": "ipython3",
   "version": "3.6.8"
  },
  "toc-autonumbering": true
 },
 "nbformat": 4,
 "nbformat_minor": 4
}
